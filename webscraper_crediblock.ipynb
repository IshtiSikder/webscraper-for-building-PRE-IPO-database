{
 "cells": [
  {
   "cell_type": "code",
   "execution_count": 1,
   "metadata": {},
   "outputs": [],
   "source": [
    "from selenium import webdriver\n",
    "import openpyxl"
   ]
  },
  {
   "cell_type": "code",
   "execution_count": 3,
   "metadata": {},
   "outputs": [],
   "source": [
    "final = openpyxl.Workbook() \n",
    "sheet = final.active\n",
    "\n",
    "sheet.cell(row=1, column = 1).value = \"company name\"\n",
    "sheet.cell(row=1, column = 2).value = \"company website\"\n",
    "sheet.cell(row=1, column = 3).value = \"wikipedia\"\n",
    "sheet.cell(row=1, column = 4).value = \"linkedin\"\n",
    "sheet.cell(row=1, column = 5).value = \"crunchbase\"\n",
    "\n",
    "\n",
    "all_cos = 'Addepar Affirm' \n",
    "#Airbase Airtable Alloy Anduril AutomationAnywhere Calm Checkr ChipperCash Cohesity Catonetworks Coinbase Confluent Convoy Coursera Dailypay Databricks Dataminr Datastax DominoData Druva EpicGames Exabeam Faire Figma Finix FloWater GoPuff HashiCorp Hootsuite HumanAPI Illumio IndigoAg Ironclad JUST Klarna Marqeta Netlify Netskope NextInsurance Outreach Payoneer PayTM PlushCare Retool Rivian Robinhood Roblox Scopely SelfFinancial SentinelOne Slice Sonder Squarespace StockX Stripe Swiggy Udacity Udemy UiPath Verkada Zipline'\n",
    "\n",
    "driver = webdriver.Chrome()\n",
    "lst = list(range(1,11))\n",
    "\n",
    "count = 1\n",
    "for i in all_cos.split():\n",
    "    count+=1\n",
    "    sheet.cell(row=count, column = 1).value = i\n",
    "    url = 'https://www.google.com/search?q=' + i + \" \"+ 'company'\n",
    "    for j in lst:\n",
    "        if count == j*10:\n",
    "            driver = webdriver.Chrome()\n",
    "    driver.get(url)\n",
    "    i = i.lower()\n",
    "    \n",
    "    try:\n",
    "        web = driver.find_element_by_partial_link_text(i)          \n",
    "        sheet.cell(row=count, column = 2).value = web.get_attribute('href')\n",
    "    except:\n",
    "        sheet.cell(row=count, column = 2).value = 'NONE'\n",
    "        \n",
    "      \n",
    "    try:\n",
    "        wiki = driver.find_element_by_partial_link_text('en.wikipedia.org')\n",
    "        sheet.cell(row=count, column = 3).value = wiki.get_attribute('href')\n",
    "    except:\n",
    "        sheet.cell(row=count, column = 3).value = 'NONE'\n",
    "\n",
    "    try:\n",
    "        link = driver.find_element_by_partial_link_text('linkedin.com')\n",
    "        sheet.cell(row=count, column = 4).value = link.get_attribute('href')\n",
    "    except:\n",
    "        sheet.cell(row=count, column = 4).value = 'NONE'\n",
    "        \n",
    "\n",
    "    try:\n",
    "        crunch = driver.find_element_by_partial_link_text('www.crunchbase.com')\n",
    "        sheet.cell(row=count, column = 5).value = crunch.get_attribute('href')\n",
    "    except:\n",
    "        sheet.cell(row=count, column = 5).value = 'NONE'\n",
    "        \n",
    "\n",
    "        \n",
    "    if sheet.cell(row=count, column = 2).value == 'NONE':\n",
    "        url = 'https://www.google.com/search?q=' + i + \" \"+ 'company official website'\n",
    "        #driver = webdriver.Chrome()\n",
    "        driver.get(url)\n",
    "        \n",
    "        try:\n",
    "            web = driver.find_element_by_partial_link_text(i)\n",
    "            sheet.cell(row=count, column = 2).value = web.get_attribute('href')\n",
    "            \n",
    "        except:\n",
    "            sheet.cell(row=count, column = 2).value = 'NONE'\n",
    "            \n",
    "            \n",
    "    if 'google' in sheet.cell(row=count, column = 2).value:\n",
    "        sheet.cell(row=count, column = 2).value = 'FAILED'\n",
    "        \n",
    "    \n",
    "    #if sheet.cell(row=count, column =3).value == 'NONE':\n",
    "        #url = 'https://www.google.com/search?q=' + i + \" \" +'company wikipedia'\n",
    "        #driver = webdriver.Chrome()\n",
    "        #driver.get(url)\n",
    "        \n",
    "        #try:\n",
    "            #wiki = driver.find_element_by_partial_link_text('en.wikipedia.org')\n",
    "            #sheet.cell(row=count, column = 3).value = wiki.get_attribute('href')\n",
    "        #except:\n",
    "            #sheet.cell(row=count, column = 3).value = 'NONE'\n",
    "\n",
    "\n",
    "    if sheet.cell(row=count, column =4).value == 'NONE':\n",
    "        url = 'https://www.google.com/search?q=' + i + \" \"+ 'company linkedin'\n",
    "        #driver = webdriver.Chrome()\n",
    "        driver.get(url)\n",
    "        \n",
    "        try:\n",
    "            link = driver.find_element_by_partial_link_text('linkedin.com')\n",
    "            sheet.cell(row=count, column = 4).value = link.get_attribute('href')\n",
    "            \n",
    "        except:\n",
    "            sheet.cell(row=count, column = 4).value = 'NONE'\n",
    "            \n",
    "    if sheet.cell(row=count, column =5).value == 'NONE':\n",
    "        url = 'https://www.google.com/search?q=' + i + \" \"+ 'company crunchbase'\n",
    "        #driver = webdriver.Chrome()\n",
    "        driver.get(url)\n",
    "        \n",
    "        try:\n",
    "            link = driver.find_element_by_partial_link_text('www.crunchbase.com')\n",
    "            sheet.cell(row=count, column = 5).value = link.get_attribute('href')\n",
    "            \n",
    "        except:\n",
    "            sheet.cell(row=count, column = 5).value = 'NONE'\n",
    "            \n",
    "for x in list(range(2,sheet.max_row + 1)):\n",
    "    for y in list(range(2,sheet.max_column + 1)):\n",
    "        sheet.cell(row=x, column=y).value ='=HYPERLINK(\"{}\")'.format(sheet.cell(row=x, column=y).value)\n",
    "        \n",
    "        \n",
    "    \n",
    "final.save(\"/Users/ishti/Downloads/updated list of companies FINAL.xlsx\") "
   ]
  },
  {
   "cell_type": "code",
   "execution_count": null,
   "metadata": {},
   "outputs": [],
   "source": [
    "wb = openpyxl.Workbook() \n",
    "shit = wb.active\n",
    "\n",
    "shit.cell(row=1, column = 1).value = \"company name\"\n",
    "shit.cell(row=1, column = 2).value = \"linkedin\"\n",
    "\n",
    "driver = webdriver.Chrome()\n",
    "\n",
    "lst = list(range(1,10))\n",
    "\n",
    "all_cos = 'PayTM Udacity Udemy'\n",
    "\n",
    "count = 1\n",
    "\n",
    "for i in all_cos.split():\n",
    "    count+=1\n",
    "    for j in lst:\n",
    "        if count == j*10:\n",
    "            driver = webdriver.Chrome()\n",
    "            \n",
    "    shit.cell(row=count, column = 1).value = i\n",
    "    url = 'https://www.google.com/search?q=' + i +\" \"+'company'\n",
    "    driver.get(url)\n",
    "    \n",
    "    try:\n",
    "        i = i.lower()\n",
    "        web = driver.find_element_by_partial_link_text('linkedin.com')\n",
    "        shit.cell(row=count, column = 2).value = web.get_attribute('href')\n",
    "    except:\n",
    "        shit.cell(row=count, column = 2).value = 'NONE'\n",
    "    \n",
    "'''\n",
    "    if sheet.cell(row=count, column = 2).value == 'NONE':\n",
    "        url = 'https://www.google.com/search?q=' + i + \" \"+ 'company official website'\n",
    "        #driver = webdriver.Chrome()\n",
    "        driver.get(url)\n",
    "        \n",
    "        try:\n",
    "            web = driver.find_element_by_partial_link_text(i)\n",
    "            sheet.cell(row=count, column = 2).value = web.get_attribute('href')\n",
    "        except:\n",
    "            sheet.cell(row=count, column = 2).value = 'NONE'\n",
    "    \n",
    "'''    \n",
    "\n",
    "\n",
    "wb.save(\"C:/Users/isikder/Pictures/list of masti.xlsx\") "
   ]
  },
{
   "cell_type": "code",
   "execution_count": 3,
   "metadata": {},
   "outputs": [
    {
     "ename": "NameError",
     "evalue": "name 'xrange' is not defined",
     "output_type": "error",
     "traceback": [
      "\u001b[1;31m---------------------------------------------------------------------------\u001b[0m",
      "\u001b[1;31mNameError\u001b[0m                                 Traceback (most recent call last)",
      "\u001b[1;32m<ipython-input-3-9e13e29893d3>\u001b[0m in \u001b[0;36m<module>\u001b[1;34m\u001b[0m\n\u001b[1;32m----> 1\u001b[1;33m \u001b[0mprint\u001b[0m\u001b[1;33m(\u001b[0m\u001b[0mlist\u001b[0m\u001b[1;33m(\u001b[0m\u001b[0mxrange\u001b[0m\u001b[1;33m(\u001b[0m\u001b[1;36m10\u001b[0m\u001b[1;33m)\u001b[0m\u001b[1;33m)\u001b[0m\u001b[1;33m)\u001b[0m\u001b[1;33m\u001b[0m\u001b[1;33m\u001b[0m\u001b[0m\n\u001b[0m",
      "\u001b[1;31mNameError\u001b[0m: name 'xrange' is not defined"
     ]
    }
   ],
   "source": [
    "print(list(xrange(10)))"
   ]
  },
  {
   "cell_type": "code",
   "execution_count": 10,
   "metadata": {},
   "outputs": [],
   "source": [
    "from openpyxl import Workbook\n",
    "\n",
    "wb = Workbook()\n",
    "sheet = wb.active\n",
    "\n",
    "# Add a hyperlink\n",
    "sheet.cell(row=1, column=1).value = \"https://www.google.com\"\n",
    "\n",
    "sheet.cell(row=1, column=1).value ='=HYPERLINK(\"{}\")'.format(sheet.cell(row=1, column=1).value)\n",
    "\n",
    "wb.save(\"C:/Users/isikder/Pictures/hyperlink_example.xlsx\")"
   ]
  },
  {
   "cell_type": "code",
   "execution_count": 8,
   "metadata": {},
   "outputs": [
    {
     "name": "stdout",
     "output_type": "stream",
     "text": [
      "[1, 2, 3, 4, 5, 6, 7, 8, 9, 10]\n"
     ]
    }
   ],
   "source": [
    "lst = list(range(1,11))\n",
    "print(lst)\n"
   ]
  },
  {
   "cell_type": "code",
   "execution_count": null,
   "metadata": {},
   "outputs": [],
   "source": []
  },
  {
   "cell_type": "code",
   "execution_count": null,
   "metadata": {},
   "outputs": [],
   "source": []
  },
  {
   "cell_type": "code",
   "execution_count": null,
   "metadata": {},
   "outputs": [],
   "source": []
  },
  {
   "cell_type": "code",
   "execution_count": null,
   "metadata": {},
   "outputs": [],
   "source": []
  }
 ],
 "metadata": {
  "kernelspec": {
   "display_name": "Python 3",
   "language": "python",
   "name": "python3"
  },
  "language_info": {
   "codemirror_mode": {
    "name": "ipython",
    "version": 3
   },
   "file_extension": ".py",
   "mimetype": "text/x-python",
   "name": "python",
   "nbconvert_exporter": "python",
   "pygments_lexer": "ipython3",
   "version": "3.8.5"
  }
 },
 "nbformat": 4,
 "nbformat_minor": 4
}

  

